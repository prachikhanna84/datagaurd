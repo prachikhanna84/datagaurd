{
 "cells": [
  {
   "cell_type": "code",
   "execution_count": 8,
   "metadata": {},
   "outputs": [],
   "source": [
    "# Dependencies\n",
    "import json\n",
    "import requests\n",
    "import pandas as pd\n",
    "\n",
    "import csv\n",
    "import re\n",
    "import os"
   ]
  },
  {
   "cell_type": "code",
   "execution_count": 9,
   "metadata": {},
   "outputs": [],
   "source": [
    "url = \"http://localhost:9200/datagaurd_index/_search\"\n",
    "\n",
    "\n",
    "response = requests.get(url , verify=False)\n",
    "\n"
   ]
  },
  {
   "cell_type": "code",
   "execution_count": 10,
   "metadata": {},
   "outputs": [
    {
     "name": "stdout",
     "output_type": "stream",
     "text": [
      "{\"took\":3,\"timed_out\":false,\"_shards\":{\"total\":5,\"successful\":5,\"failed\":0},\"hits\":{\"total\":4,\"max_score\":1.0,\"hits\":[{\"_index\":\"datagaurd_index\",\"_type\":\"typename\",\"_id\":\"2\",\"_score\":1.0,\"_source\":{\n",
      "    \"application_name\" : \"datagaurd\",\n",
      "    \"message\": \"123 Card NUmber is  : 5567000088884444\"\n",
      "}},{\"_index\":\"datagaurd_index\",\"_type\":\"typename\",\"_id\":\"4\",\"_score\":1.0,\"_source\":{\n",
      "    \"application_name\" : \"datagaurd\",\n",
      "    \"message\": \"123 Card NUmber is  : 5xxxx000054321234\"\n",
      "}},{\"_index\":\"datagaurd_index\",\"_type\":\"typename\",\"_id\":\"1\",\"_score\":1.0,\"_source\":{\n",
      "    \"application_name\" : \"datagaurd\",\n",
      "    \"message\": \"123 Card NUmber is  : 5567000088884444\"\n",
      "}},{\"_index\":\"datagaurd_index\",\"_type\":\"typename\",\"_id\":\"3\",\"_score\":1.0,\"_source\":{\n",
      "    \"application_name\" : \"datagaurd\",\n",
      "    \"message\": \"123 Card NUmber is  : 5511000054321234\"\n",
      "}}]}}\n"
     ]
    }
   ],
   "source": [
    "print(response.text)"
   ]
  },
  {
   "cell_type": "code",
   "execution_count": 12,
   "metadata": {},
   "outputs": [],
   "source": [
    "total_hits=response.json()[\"hits\"][\"hits\"]"
   ]
  },
  {
   "cell_type": "code",
   "execution_count": 18,
   "metadata": {},
   "outputs": [
    {
     "data": {
      "text/plain": [
       "{'_index': 'datagaurd_index',\n",
       " '_type': 'typename',\n",
       " '_id': '2',\n",
       " '_score': 1.0,\n",
       " '_source': {'application_name': 'datagaurd',\n",
       "  'message': '123 Card NUmber is  : 5567000088884444'}}"
      ]
     },
     "execution_count": 18,
     "metadata": {},
     "output_type": "execute_result"
    }
   ],
   "source": [
    "total_hits[0]"
   ]
  },
  {
   "cell_type": "code",
   "execution_count": 25,
   "metadata": {},
   "outputs": [
    {
     "name": "stdout",
     "output_type": "stream",
     "text": [
      "123 Card NUmber is  : 5567000088884444\n",
      "123 Card NUmber is  : 5xxxx000054321234\n",
      "123 Card NUmber is  : 5567000088884444\n",
      "123 Card NUmber is  : 5511000054321234\n"
     ]
    }
   ],
   "source": [
    "for record in total_hits:\n",
    "    print(record[\"_source\"][\"message\"])"
   ]
  },
  {
   "cell_type": "code",
   "execution_count": null,
   "metadata": {},
   "outputs": [],
   "source": []
  }
 ],
 "metadata": {
  "kernelspec": {
   "display_name": "Python 3",
   "language": "python",
   "name": "python3"
  },
  "language_info": {
   "codemirror_mode": {
    "name": "ipython",
    "version": 3
   },
   "file_extension": ".py",
   "mimetype": "text/x-python",
   "name": "python",
   "nbconvert_exporter": "python",
   "pygments_lexer": "ipython3",
   "version": "3.7.3"
  }
 },
 "nbformat": 4,
 "nbformat_minor": 2
}
