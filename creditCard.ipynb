{
 "cells": [
  {
   "cell_type": "code",
   "execution_count": 164,
   "metadata": {},
   "outputs": [],
   "source": [
    "# Dependencies\n",
    "import json\n",
    "import requests\n",
    "import pandas as pd\n",
    "\n",
    "import csv\n",
    "import re\n",
    "import os\n",
    "\n",
    "from binConfig import searchstrList\n"
   ]
  },
  {
   "cell_type": "code",
   "execution_count": 165,
   "metadata": {},
   "outputs": [],
   "source": [
    "url = \"http://localhost:9200/datagaurd_index/_search\"\n",
    "\n",
    "\n",
    "response = requests.get(url , verify=False)\n",
    "\n"
   ]
  },
  {
   "cell_type": "code",
   "execution_count": 166,
   "metadata": {},
   "outputs": [
    {
     "name": "stdout",
     "output_type": "stream",
     "text": [
      "{\"took\":2,\"timed_out\":false,\"_shards\":{\"total\":5,\"successful\":5,\"failed\":0},\"hits\":{\"total\":7,\"max_score\":1.0,\"hits\":[{\"_index\":\"datagaurd_index\",\"_type\":\"typename\",\"_id\":\"8\",\"_score\":1.0,\"_source\":{\n",
      "    \"application_name\" : \"datagaurd\",\n",
      "    \"message\": \"123 Card NUmber is  : 1111000054328884\"\n",
      "}},{\"_index\":\"datagaurd_index\",\"_type\":\"typename\",\"_id\":\"2\",\"_score\":1.0,\"_source\":{\n",
      "    \"application_name\" : \"datagaurd\",\n",
      "    \"message\": \"123 Card NUmber is  : 5567000088884444\"\n",
      "}},{\"_index\":\"datagaurd_index\",\"_type\":\"typename\",\"_id\":\"4\",\"_score\":1.0,\"_source\":{\n",
      "    \"application_name\" : \"datagaurd\",\n",
      "    \"message\": \"123 Card NUmber is  : 4430000054321234\"\n",
      "}},{\"_index\":\"datagaurd_index\",\"_type\":\"typename\",\"_id\":\"6\",\"_score\":1.0,\"_source\":{\n",
      "    \"application_name\" : \"datagaurd\",\n",
      "    \"message\": \"123 Card NUmber is  : 4430000054321234\"\n",
      "}},{\"_index\":\"datagaurd_index\",\"_type\":\"typename\",\"_id\":\"1\",\"_score\":1.0,\"_source\":{\n",
      "    \"application_name\" : \"datagaurd\",\n",
      "    \"message\": \"123 Card NUmber is  : 5567000088884444\"\n",
      "}},{\"_index\":\"datagaurd_index\",\"_type\":\"typename\",\"_id\":\"7\",\"_score\":1.0,\"_source\":{\n",
      "    \"application_name\" : \"datagaurd\",\n",
      "    \"message\": \"123 Card NUmber is  : 5567000054328884\"\n",
      "}},{\"_index\":\"datagaurd_index\",\"_type\":\"typename\",\"_id\":\"3\",\"_score\":1.0,\"_source\":{\n",
      "    \"application_name\" : \"datagaurd\",\n",
      "    \"message\": \"123 Card NUmber is  : 5511000054321234\"\n",
      "}}]}}\n"
     ]
    }
   ],
   "source": [
    "# print(response.text)"
   ]
  },
  {
   "cell_type": "code",
   "execution_count": 167,
   "metadata": {},
   "outputs": [
    {
     "data": {
      "text/plain": [
       "7"
      ]
     },
     "execution_count": 167,
     "metadata": {},
     "output_type": "execute_result"
    }
   ],
   "source": [
    "total_hits=response.json()[\"hits\"][\"hits\"]\n",
    "len(total_hits)"
   ]
  },
  {
   "cell_type": "code",
   "execution_count": 168,
   "metadata": {},
   "outputs": [],
   "source": [
    "total_hits[0]\n",
    "sequence = 0"
   ]
  },
  {
   "cell_type": "code",
   "execution_count": 169,
   "metadata": {},
   "outputs": [],
   "source": [
    "\n",
    "with open('./outputData/Training.csv', 'w') as csvfile:\n",
    "    filewriter = csv.writer(csvfile)\n",
    "    filewriter.writerow(['SequenceNumber','IsPan','sixteendigits','fifteendigits','fourteendigits','startwithfive','startwithfour'])\n",
    "    \n",
    "    "
   ]
  },
  {
   "cell_type": "code",
   "execution_count": 170,
   "metadata": {},
   "outputs": [
    {
     "name": "stdout",
     "output_type": "stream",
     "text": [
      "False\n",
      "123 Card NUmber is  : 1111000054328884\n",
      "123 Card NUmber is  : 5567000088884444\n",
      "True\n",
      "123 Card NUmber is  : 4430000054321234\n",
      "True\n",
      "123 Card NUmber is  : 4430000054321234\n",
      "True\n",
      "123 Card NUmber is  : 5567000088884444\n",
      "True\n",
      "123 Card NUmber is  : 5567000054328884\n",
      "True\n",
      "False\n",
      "123 Card NUmber is  : 5511000054321234\n"
     ]
    }
   ],
   "source": [
    "for record in total_hits:\n",
    "    bin_found=False\n",
    "    line = record[\"_source\"][\"message\"]\n",
    "    for s in searchstrList:\n",
    "        if s in line:\n",
    "            print(line)\n",
    "            bin_found=True\n",
    "            index=line.find(s)\n",
    "            if index >=0:\n",
    "                    dataitem19=(line[index:index+19])\n",
    "                    dataitem16=(line[index:index+16])\n",
    "                    dataitem15=(line[index:index+15])\n",
    "                    dataitem14=(line[index:index+14])\n",
    "                    \n",
    "                    dataList=[]\n",
    "                    sequence += 1\n",
    "                    dataList.insert(0,sequence)\n",
    "                    dataList.insert(1,0) \n",
    "\n",
    "                    if dataitem16.isnumeric()== True:\n",
    "                        dataList.insert(2,1)    \n",
    "                    else:\n",
    "                        dataList.insert(2,0)\n",
    "                        \n",
    "                    if dataitem15.isnumeric()== True:\n",
    "                        dataList.insert(3,1)    \n",
    "                    else:\n",
    "                        dataList.insert(3,0)\n",
    "                        \n",
    "                    if dataitem14.isnumeric()== True:\n",
    "                        dataList.insert(4,1)\n",
    "                    else:\n",
    "                        dataList.insert(4,0)\n",
    "                    if s[1] == '5':\n",
    "                        dataList.insert(5,1)    \n",
    "                    else:\n",
    "                        dataList.insert(5,0)                   \n",
    "                    if s[1] == '4':\n",
    "                        dataList.insert(6,1)\n",
    "                    else:\n",
    "                        dataList.insert(6,0)\n",
    "                    if (dataList[2]==1 or dataList[3]==1 or dataList[4]==1) and (dataList[5]==1 or dataList[6]==1) :\n",
    "                        dataList.insert(1,1) \n",
    "                    else:\n",
    "                        dataList.insert(1,0)        \n",
    "\n",
    "                    dataList.insert(8,line)    \n",
    "\n",
    "                    with open('./outputData/Training.csv', 'a') as csvfile:\n",
    "                        filewriter = csv.writer(csvfile)\n",
    "                        filewriter.writerow(dataList)                        \n",
    "    if bin_found == False:\n",
    "            print(line)\n",
    "            dataList=[]\n",
    "            sequence += 1\n",
    "            dataList.insert(0,sequence)\n",
    "            if line.split(\",\")[0] == '':\n",
    "                print(\"empty doc id\")\n",
    "            else:   \n",
    "                dataList.insert(2,0)    \n",
    "                dataList.insert(3,0)    \n",
    "                dataList.insert(4,0)    \n",
    "                dataList.insert(5,0)    \n",
    "                dataList.insert(6,0)  \n",
    "                if (dataList[2]==1 or dataList[3]==1 or dataList[4]==1) and (dataList[5]==1 or dataList[6]==1) :\n",
    "                    dataList.insert(1,1) \n",
    "                else:\n",
    "                    dataList.insert(1,0) \n",
    "                dataList.insert(8,line)    \n",
    "                    \n",
    "                with open('./outputData/Training.csv', 'a') as csvfile:\n",
    "                    filewriter = csv.writer(csvfile)\n",
    "                    filewriter.writerow(dataList)                       "
   ]
  },
  {
   "cell_type": "code",
   "execution_count": null,
   "metadata": {},
   "outputs": [],
   "source": []
  },
  {
   "cell_type": "code",
   "execution_count": 153,
   "metadata": {},
   "outputs": [
    {
     "data": {
      "text/plain": [
       "[6, 1, 0, 1, 1, 1, 1, 0, '123 Card NUmber is  : 5567000054328884']"
      ]
     },
     "execution_count": 153,
     "metadata": {},
     "output_type": "execute_result"
    }
   ],
   "source": [
    "dataList"
   ]
  },
  {
   "cell_type": "code",
   "execution_count": null,
   "metadata": {},
   "outputs": [],
   "source": []
  }
 ],
 "metadata": {
  "kernelspec": {
   "display_name": "Python 3",
   "language": "python",
   "name": "python3"
  },
  "language_info": {
   "codemirror_mode": {
    "name": "ipython",
    "version": 3
   },
   "file_extension": ".py",
   "mimetype": "text/x-python",
   "name": "python",
   "nbconvert_exporter": "python",
   "pygments_lexer": "ipython3",
   "version": "3.7.3"
  }
 },
 "nbformat": 4,
 "nbformat_minor": 2
}
